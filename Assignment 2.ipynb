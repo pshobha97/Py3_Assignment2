{
 "cells": [
  {
   "cell_type": "markdown",
   "metadata": {},
   "source": [
    "# Task 1"
   ]
  },
  {
   "cell_type": "raw",
   "metadata": {},
   "source": [
    "Question 1.1 "
   ]
  },
  {
   "cell_type": "code",
   "execution_count": 1,
   "metadata": {},
   "outputs": [
    {
     "data": {
      "text/plain": [
       "19"
      ]
     },
     "execution_count": 1,
     "metadata": {},
     "output_type": "execute_result"
    }
   ],
   "source": [
    "def sum(a,b):\n",
    "    return a+b\n",
    "def myreduce(func,l):\n",
    "    result=l[0]\n",
    "    for i in l[1:]:\n",
    "        result=func(result,i)\n",
    "    return result\n",
    "myreduce(sum,[2,5,2,5,3,2])"
   ]
  },
  {
   "cell_type": "raw",
   "metadata": {},
   "source": [
    "# Question 1.2"
   ]
  },
  {
   "cell_type": "code",
   "execution_count": 2,
   "metadata": {},
   "outputs": [
    {
     "data": {
      "text/plain": [
       "[3, 2, 0, 3]"
      ]
     },
     "execution_count": 2,
     "metadata": {},
     "output_type": "execute_result"
    }
   ],
   "source": [
    "def ispositive(n):\n",
    "    if n>=0:\n",
    "        return True\n",
    "\n",
    "def myfilter(func,list1):\n",
    "    result=[]\n",
    "    for i in list1:\n",
    "        if ispositive(i):\n",
    "            result.append(i)\n",
    "    return result\n",
    "myfilter(ispositive,[3,2,0,-1,3,-4,-9])"
   ]
  },
  {
   "cell_type": "raw",
   "metadata": {},
   "source": [
    "Question 2."
   ]
  },
  {
   "cell_type": "code",
   "execution_count": 3,
   "metadata": {},
   "outputs": [
    {
     "data": {
      "text/plain": [
       "['A', 'C', 'A', 'D', 'G', 'I', 'L', 'D']"
      ]
     },
     "execution_count": 3,
     "metadata": {},
     "output_type": "execute_result"
    }
   ],
   "source": [
    "[i for i in \"ACADGILD\"]"
   ]
  },
  {
   "cell_type": "code",
   "execution_count": 4,
   "metadata": {},
   "outputs": [
    {
     "data": {
      "text/plain": [
       "['x', 'xx', 'xxx', 'y', 'yy', 'yyy', 'z', 'zz', 'zzz']"
      ]
     },
     "execution_count": 4,
     "metadata": {},
     "output_type": "execute_result"
    }
   ],
   "source": [
    "[i*j for j in \"xyz\" for i in range(1,4)]"
   ]
  },
  {
   "cell_type": "code",
   "execution_count": 5,
   "metadata": {},
   "outputs": [
    {
     "data": {
      "text/plain": [
       "['x', 'y', 'z', 'xx', 'yy', 'zz', 'xxx', 'yyy', 'zzz']"
      ]
     },
     "execution_count": 5,
     "metadata": {},
     "output_type": "execute_result"
    }
   ],
   "source": [
    "[i*j for j in range(1,4) for i in \"xyz\"]"
   ]
  },
  {
   "cell_type": "raw",
   "metadata": {},
   "source": [
    "Question 3."
   ]
  },
  {
   "cell_type": "code",
   "execution_count": 6,
   "metadata": {},
   "outputs": [
    {
     "data": {
      "text/plain": [
       "'datasciencewithpyhtonbyineuronIntelligence.'"
      ]
     },
     "execution_count": 6,
     "metadata": {},
     "output_type": "execute_result"
    }
   ],
   "source": [
    "def longestWord(l):\n",
    "    longword=\"\"\n",
    "    for i in l:\n",
    "        longword+=i\n",
    "    return longword\n",
    "longestWord([\"data\",\"science\",\"with\",\"pyhton\",\"by\",\"ineuronIntelligence.\"])\n"
   ]
  },
  {
   "cell_type": "markdown",
   "metadata": {},
   "source": [
    "# Task 2."
   ]
  },
  {
   "cell_type": "raw",
   "metadata": {},
   "source": [
    "Question 1.1."
   ]
  },
  {
   "cell_type": "code",
   "execution_count": 13,
   "metadata": {},
   "outputs": [],
   "source": [
    "class triangleinput:\n",
    "    def __init__(self,a,b,c):\n",
    "        self.a=a\n",
    "        self.b=b\n",
    "        self.c=c\n",
    "    def __str__(self):\n",
    "        return \"input taken\"\n",
    "\n",
    "    "
   ]
  },
  {
   "cell_type": "code",
   "execution_count": 60,
   "metadata": {},
   "outputs": [
    {
     "name": "stdout",
     "output_type": "stream",
     "text": [
      "enter a:--> 3\n",
      "enter b:--> 9\n",
      "enter c:--> 9\n"
     ]
    }
   ],
   "source": [
    "class areaoftriangle(triangleinput):\n",
    "    area=0\n",
    "    def __init__(self,s,*args):\n",
    "        super(areaoftriangle,self).__init__(*args)\n",
    "        self.s=s\n",
    "    def test(self):\n",
    "        self.area=(self.s*(self.s-self.a)*(self.s-self.b)*(self.s-self.c)) ** 0.5 \n",
    "    def __str__(self):\n",
    "        return \"the area of the triangle is {}\".format(self.area)\n",
    "p=areaoftriangle(5,int(input(\"enter a:--> \" )),int(input(\"enter b:--> \")),int(input(\"enter c:--> \")))\n"
   ]
  },
  {
   "cell_type": "code",
   "execution_count": 61,
   "metadata": {},
   "outputs": [
    {
     "name": "stdout",
     "output_type": "stream",
     "text": [
      "the area of the triangle is 12.649110640673518\n"
     ]
    }
   ],
   "source": [
    "p.test()\n",
    "print(p)"
   ]
  },
  {
   "cell_type": "raw",
   "metadata": {},
   "source": [
    "## Question 1.2."
   ]
  },
  {
   "cell_type": "code",
   "execution_count": 62,
   "metadata": {},
   "outputs": [
    {
     "data": {
      "text/plain": [
       "['Shobha', 'here.', 'python', 'course.']"
      ]
     },
     "execution_count": 62,
     "metadata": {},
     "output_type": "execute_result"
    }
   ],
   "source": [
    "def filter_long_words(l1,num):\n",
    "    word_list=[]\n",
    "    for i in l1:\n",
    "        if len(i)>num:\n",
    "            word_list.append(i)\n",
    "    return word_list\n",
    "filter_long_words([\"This\",\"is\",\"Shobha\",\"here.\",\"with\",\"python\",\"course.\"],4)"
   ]
  },
  {
   "cell_type": "raw",
   "metadata": {},
   "source": [
    "Question 2.1."
   ]
  },
  {
   "cell_type": "code",
   "execution_count": 64,
   "metadata": {},
   "outputs": [
    {
     "data": {
      "text/plain": [
       "[6, 4, 4, 6, 6]"
      ]
     },
     "execution_count": 64,
     "metadata": {},
     "output_type": "execute_result"
    }
   ],
   "source": [
    "def map_function(l2):\n",
    "    length=[]\n",
    "    for i in l2:\n",
    "        length.append(len(i))\n",
    "    return length\n",
    "map_function([\"shobha\",\"rani\",\"Anup\",\"Shilpa\",\"Guriya\"])\n",
    "    "
   ]
  },
  {
   "cell_type": "code",
   "execution_count": null,
   "metadata": {},
   "outputs": [],
   "source": []
  },
  {
   "cell_type": "raw",
   "metadata": {},
   "source": [
    "Question 2.2."
   ]
  },
  {
   "cell_type": "code",
   "execution_count": 66,
   "metadata": {},
   "outputs": [
    {
     "data": {
      "text/plain": [
       "False"
      ]
     },
     "execution_count": 66,
     "metadata": {},
     "output_type": "execute_result"
    }
   ],
   "source": [
    "def is_Vowel(char):\n",
    "    if char in ('a','A','i','I','o','O','u','U','e','E'):\n",
    "        return True\n",
    "    else:\n",
    "        return False\n",
    "is_Vowel(\"P\")\n",
    "    "
   ]
  },
  {
   "cell_type": "markdown",
   "metadata": {},
   "source": [
    "#### "
   ]
  }
 ],
 "metadata": {
  "kernelspec": {
   "display_name": "Python 3",
   "language": "python",
   "name": "python3"
  },
  "language_info": {
   "codemirror_mode": {
    "name": "ipython",
    "version": 3
   },
   "file_extension": ".py",
   "mimetype": "text/x-python",
   "name": "python",
   "nbconvert_exporter": "python",
   "pygments_lexer": "ipython3",
   "version": "3.7.1"
  }
 },
 "nbformat": 4,
 "nbformat_minor": 2
}
